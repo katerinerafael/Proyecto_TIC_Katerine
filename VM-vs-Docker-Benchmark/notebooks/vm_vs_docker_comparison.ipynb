{
 "cells": [
  {
   "cell_type": "code",
   "execution_count": null,
   "id": "ee4e47ff",
   "metadata": {
    "vscode": {
     "languageId": "plaintext"
    }
   },
   "outputs": [],
   "source": [
    "import pandas as pd\n",
    "import matplotlib.pyplot as plt\n",
    "\n",
    "# Cargar métricas\n",
    "vm_cpu = pd.read_csv(\"datos/vm_cpu.csv\", header=None, names=[\"Iteración\", \"CPU\"])\n",
    "docker_cpu = pd.read_csv(\"datos/docker_cpu.csv\", header=None, names=[\"Iteración\", \"CPU\"])\n",
    "\n",
    "# Graficar\n",
    "plt.figure(figsize=(10,5))\n",
    "plt.plot(vm_cpu[\"Iteración\"], vm_cpu[\"CPU\"], label=\"VM\")\n",
    "plt.plot(docker_cpu[\"Iteración\"], docker_cpu[\"CPU\"], label=\"Docker\")\n",
    "plt.title(\"Comparación de Uso de CPU: VM vs Docker\")\n",
    "plt.xlabel(\"Iteración\")\n",
    "plt.ylabel(\"CPU (%)\")\n",
    "plt.legend()\n",
    "plt.grid(True)\n",
    "plt.savefig(\"vm_vs_docker_cpu.png\")\n",
    "plt.show()\n"
   ]
  }
 ],
 "metadata": {
  "language_info": {
   "name": "python"
  }
 },
 "nbformat": 4,
 "nbformat_minor": 5
}
