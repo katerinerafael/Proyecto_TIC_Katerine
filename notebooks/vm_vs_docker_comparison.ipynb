{
 "cells": [
  {
   "cell_type": "code",
   "execution_count": null,
   "id": "b28a7a91",
   "metadata": {},
   "outputs": [],
   "source": [
    "import pandas as pd\n",
    "import matplotlib.pyplot as plt\n",
    "\n",
    "def cargar_datos(path, nombre):\n",
    "    df = pd.read_csv(f\"{path}/{nombre}.csv\", header=None, names=[\"Iteración\", \"Valor\"])\n",
    "    return df\n",
    "\n",
    "def comparar_metrica(nombre, ylabel, titulo):\n",
    "    vm = cargar_datos(\"datos_vm\", nombre)\n",
    "    docker = cargar_datos(\"datos_docker\", nombre)\n",
    "\n",
    "    plt.figure(figsize=(10,6))\n",
    "    plt.plot(vm[\"Iteración\"], vm[\"Valor\"], label=\"Máquina Virtual\")\n",
    "    plt.plot(docker[\"Iteración\"], docker[\"Valor\"], label=\"Docker\")\n",
    "    plt.title(titulo)\n",
    "    plt.xlabel(\"Iteración\")\n",
    "    plt.ylabel(ylabel)\n",
    "    plt.legend()\n",
    "    plt.grid(True)\n",
    "    plt.savefig(f\"comparativa_{nombre}.png\")\n",
    "    print(f\"Gráfica comparativa guardada: comparativa_{nombre}.png\")\n",
    "\n",
    "comparar_metrica(\"cpu\", \"Uso de CPU (%)\", \"Comparativa de Uso de CPU\")\n",
    "comparar_metrica(\"ram\", \"Uso de RAM (%)\", \"Comparativa de Uso de RAM\")\n",
    "comparar_metrica(\"tiempo\", \"Tiempo (s)\", \"Comparativa de Tiempo de Ejecución\")\n"
   ]
  }
 ],
 "metadata": {
  "language_info": {
   "name": "python"
  }
 },
 "nbformat": 4,
 "nbformat_minor": 5
}
